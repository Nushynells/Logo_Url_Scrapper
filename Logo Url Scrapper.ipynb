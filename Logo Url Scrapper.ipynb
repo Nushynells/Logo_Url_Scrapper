{
 "cells": [
  {
   "cell_type": "code",
   "execution_count": 1,
   "metadata": {},
   "outputs": [
    {
     "name": "stdout",
     "output_type": "stream",
     "text": [
      "['https://www.foodplus.co.ke', '']https://www.foodplus.co.ke/wp-content/uploads/2019/04/logo-white-bg.png\n"
     ]
    }
   ],
   "source": [
    "#Import Libraries\n",
    "\n",
    "from lxml import html, etree\n",
    "import requests\n",
    "\n",
    "\n",
    "# Get the original webpage html content\n",
    "webpageLink = 'https://www.foodplus.co.ke/'\n",
    "page = requests.get(webpageLink)\n",
    "\n",
    "\n",
    "# convert the data received into searchable HTML\n",
    "extractedHtml = html.fromstring(page.content)\n",
    "\n",
    "# use an XPath query to find the first image link (the 'src' attribute of the 'img' tag). \n",
    "imageSrc = extractedHtml.xpath(\"//img/@src\")[0]\n",
    "\n",
    "# strip off the actual *page* being called as we only want to base url\n",
    "imageDomain = webpageLink.rsplit('/', 1) \n",
    "\n",
    "\n",
    "imageLink = str(imageDomain) + str(imageSrc)\n",
    "print(imageLink)"
   ]
  },
  {
   "cell_type": "code",
   "execution_count": null,
   "metadata": {},
   "outputs": [],
   "source": []
  }
 ],
 "metadata": {
  "kernelspec": {
   "display_name": "Python 3",
   "language": "python",
   "name": "python3"
  },
  "language_info": {
   "codemirror_mode": {
    "name": "ipython",
    "version": 3
   },
   "file_extension": ".py",
   "mimetype": "text/x-python",
   "name": "python",
   "nbconvert_exporter": "python",
   "pygments_lexer": "ipython3",
   "version": "3.7.6"
  }
 },
 "nbformat": 4,
 "nbformat_minor": 4
}
