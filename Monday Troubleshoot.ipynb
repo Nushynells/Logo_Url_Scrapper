{
 "cells": [
  {
   "cell_type": "code",
   "execution_count": 1,
   "metadata": {},
   "outputs": [],
   "source": [
    "#Import Libraries\n",
    " \n",
    "import requests\n",
    "import pandas as pd\n",
    "from bs4 import BeautifulSoup"
   ]
  },
  {
   "cell_type": "code",
   "execution_count": 4,
   "metadata": {},
   "outputs": [],
   "source": [
    "#read the companies from the csv file\n",
    "\n",
    "csvCompanies=pd.read_csv(\"mon06.csv\")\n",
    "\n",
    "#Replace nulls with empty strings\n",
    "csvCompanies.fillna('',inplace=True)"
   ]
  },
  {
   "cell_type": "code",
   "execution_count": 5,
   "metadata": {},
   "outputs": [],
   "source": [
    "#loop through all the website urls \n",
    "\n",
    "for link in csvCompanies['website']:\n",
    "    #find the index of the row e.g. website link on the first row will be 0\n",
    "    \n",
    "    loc=csvCompanies[csvCompanies[\"website\"]==link].index[0]\n",
    "    \n",
    "        #send request to speed it up make it async\n",
    "    page=requests.get(link,allow_redirects=True)\n",
    "        \n",
    "        #get the beautifulsoup object of the page\n",
    "    soup=BeautifulSoup(page.text,'lxml')\n",
    "        #loop through all images\n",
    "    for img_el in soup.find_all('img'):\n",
    "            #if the string logo is in img src or alt or class attribute\n",
    "            #take the url using the position of the website link\n",
    "            #add the url in its logo column\n",
    "        if 'logo' in img_el['src']: #or img_el['alt']:\n",
    "            if len(csvCompanies[\"logo\"].loc[loc])==0:\n",
    "                csvCompanies[\"logo\"].loc[loc]=img_el['src']\n",
    "            elif'logo'in ''.join(img_el['src']):\n",
    "                csvCompanies[\"logo\"].loc[loc]=img_el['src']\n",
    "                    \n",
    "  "
   ]
  },
  {
   "cell_type": "code",
   "execution_count": 6,
   "metadata": {},
   "outputs": [
    {
     "data": {
      "text/html": [
       "<div>\n",
       "<style scoped>\n",
       "    .dataframe tbody tr th:only-of-type {\n",
       "        vertical-align: middle;\n",
       "    }\n",
       "\n",
       "    .dataframe tbody tr th {\n",
       "        vertical-align: top;\n",
       "    }\n",
       "\n",
       "    .dataframe thead th {\n",
       "        text-align: right;\n",
       "    }\n",
       "</style>\n",
       "<table border=\"1\" class=\"dataframe\">\n",
       "  <thead>\n",
       "    <tr style=\"text-align: right;\">\n",
       "      <th></th>\n",
       "      <th>name</th>\n",
       "      <th>website</th>\n",
       "      <th>logo</th>\n",
       "      <th>Unnamed: 3</th>\n",
       "    </tr>\n",
       "  </thead>\n",
       "  <tbody>\n",
       "    <tr>\n",
       "      <th>0</th>\n",
       "      <td>Davis and Shirtliff Limited</td>\n",
       "      <td>https://www.davisandshirtliff.com/</td>\n",
       "      <td>/images/logo.png</td>\n",
       "      <td></td>\n",
       "    </tr>\n",
       "    <tr>\n",
       "      <th>1</th>\n",
       "      <td>Devki Group of Companies</td>\n",
       "      <td>http://devkigroupke.com/</td>\n",
       "      <td>http://devkigroupke.com/wp-content/uploads/201...</td>\n",
       "      <td></td>\n",
       "    </tr>\n",
       "    <tr>\n",
       "      <th>2</th>\n",
       "      <td>HACO Industries Kenya Limited</td>\n",
       "      <td>https://www.haco.co.ke/</td>\n",
       "      <td>https://www.haco.co.ke/wp-content/uploads/2019...</td>\n",
       "      <td></td>\n",
       "    </tr>\n",
       "    <tr>\n",
       "      <th>3</th>\n",
       "      <td>Kenafric Industries Limited</td>\n",
       "      <td>https://www.kenafricind.com/</td>\n",
       "      <td>https://www.kenafricind.com/images/logo.png</td>\n",
       "      <td></td>\n",
       "    </tr>\n",
       "    <tr>\n",
       "      <th>4</th>\n",
       "      <td>Rai Group Limited</td>\n",
       "      <td>https://raisugar.com/index.php/login</td>\n",
       "      <td></td>\n",
       "      <td></td>\n",
       "    </tr>\n",
       "    <tr>\n",
       "      <th>5</th>\n",
       "      <td>Bidco Africa Limited</td>\n",
       "      <td>https://www.bidcoafrica.com/</td>\n",
       "      <td>https://www.bidcoafrica.com/wp-content/themes/...</td>\n",
       "      <td></td>\n",
       "    </tr>\n",
       "  </tbody>\n",
       "</table>\n",
       "</div>"
      ],
      "text/plain": [
       "                            name                               website  \\\n",
       "0    Davis and Shirtliff Limited    https://www.davisandshirtliff.com/   \n",
       "1       Devki Group of Companies              http://devkigroupke.com/   \n",
       "2  HACO Industries Kenya Limited               https://www.haco.co.ke/   \n",
       "3    Kenafric Industries Limited          https://www.kenafricind.com/   \n",
       "4              Rai Group Limited  https://raisugar.com/index.php/login   \n",
       "5           Bidco Africa Limited          https://www.bidcoafrica.com/   \n",
       "\n",
       "                                                logo Unnamed: 3  \n",
       "0                                   /images/logo.png             \n",
       "1  http://devkigroupke.com/wp-content/uploads/201...             \n",
       "2  https://www.haco.co.ke/wp-content/uploads/2019...             \n",
       "3        https://www.kenafricind.com/images/logo.png             \n",
       "4                                                                \n",
       "5  https://www.bidcoafrica.com/wp-content/themes/...             "
      ]
     },
     "execution_count": 6,
     "metadata": {},
     "output_type": "execute_result"
    }
   ],
   "source": [
    "csvCompanies.to_excel(\"monday006.xlsx\")\n",
    "csvCompanies"
   ]
  },
  {
   "cell_type": "code",
   "execution_count": null,
   "metadata": {},
   "outputs": [],
   "source": []
  },
  {
   "cell_type": "code",
   "execution_count": null,
   "metadata": {},
   "outputs": [],
   "source": []
  },
  {
   "cell_type": "code",
   "execution_count": null,
   "metadata": {},
   "outputs": [],
   "source": []
  },
  {
   "cell_type": "code",
   "execution_count": null,
   "metadata": {},
   "outputs": [],
   "source": []
  },
  {
   "cell_type": "code",
   "execution_count": null,
   "metadata": {},
   "outputs": [],
   "source": []
  },
  {
   "cell_type": "code",
   "execution_count": null,
   "metadata": {},
   "outputs": [],
   "source": []
  },
  {
   "cell_type": "code",
   "execution_count": null,
   "metadata": {},
   "outputs": [],
   "source": []
  },
  {
   "cell_type": "code",
   "execution_count": null,
   "metadata": {},
   "outputs": [],
   "source": []
  },
  {
   "cell_type": "code",
   "execution_count": null,
   "metadata": {},
   "outputs": [],
   "source": []
  }
 ],
 "metadata": {
  "kernelspec": {
   "display_name": "Python 3",
   "language": "python",
   "name": "python3"
  },
  "language_info": {
   "codemirror_mode": {
    "name": "ipython",
    "version": 3
   },
   "file_extension": ".py",
   "mimetype": "text/x-python",
   "name": "python",
   "nbconvert_exporter": "python",
   "pygments_lexer": "ipython3",
   "version": "3.7.6"
  }
 },
 "nbformat": 4,
 "nbformat_minor": 4
}
